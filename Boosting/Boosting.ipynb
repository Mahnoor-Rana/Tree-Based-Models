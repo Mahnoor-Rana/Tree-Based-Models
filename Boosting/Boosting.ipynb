{
 "cells": [
  {
   "cell_type": "code",
   "execution_count": 8,
   "id": "5f8d585e",
   "metadata": {},
   "outputs": [],
   "source": [
    "import pandas as pd\n",
    "import numpy as np \n",
    "import matplotlib.pyplot as plt \n",
    "import seaborn as sns\n",
    "from sklearn.model_selection import train_test_split"
   ]
  },
  {
   "cell_type": "markdown",
   "id": "e55c57c4",
   "metadata": {},
   "source": [
    "## Define the AdaBoost classifier\n",
    "In the previous we'll revisit the Indian Liver Patient dataset . Our task is to predict whether a patient suffers from a liver disease using 10 features including Albumin, age and gender. However, this time, we'll be training an AdaBoost ensemble to perform the classification task. In addition, given that this dataset is imbalanced, we'll be using the ROC AUC score as a metric instead of accuracy"
   ]
  },
  {
   "cell_type": "code",
   "execution_count": 5,
   "id": "e20a5566",
   "metadata": {},
   "outputs": [],
   "source": [
    "df = pd.read_csv('indian_liver_patient.csv')\n",
    "df['Gender'] = df.Gender.replace({'Male':0, 'Female':1})"
   ]
  },
  {
   "cell_type": "code",
   "execution_count": 6,
   "id": "7d264486",
   "metadata": {},
   "outputs": [],
   "source": [
    "df['Albumin_and_Globulin_Ratio'] = df['Albumin_and_Globulin_Ratio'].fillna(0)"
   ]
  },
  {
   "cell_type": "code",
   "execution_count": 9,
   "id": "8a756a85",
   "metadata": {},
   "outputs": [],
   "source": [
    "X = df.drop(['Gender'], axis = 1)\n",
    "y = df['Gender']"
   ]
  },
  {
   "cell_type": "code",
   "execution_count": 10,
   "id": "9dd5563a",
   "metadata": {},
   "outputs": [],
   "source": [
    "X_train, X_test,y_train,y_test =  train_test_split(X, y , test_size =0.3)"
   ]
  },
  {
   "cell_type": "code",
   "execution_count": 11,
   "id": "eec4249d",
   "metadata": {},
   "outputs": [],
   "source": [
    "# Import DecisionTreeClassifier\n",
    "from sklearn.tree import DecisionTreeClassifier\n",
    "\n",
    "# Import AdaBoostClassifier\n",
    "from sklearn.ensemble import AdaBoostClassifier\n",
    "\n",
    "# Instantiate dt\n",
    "dt = DecisionTreeClassifier(max_depth=2, random_state=1)\n",
    "\n",
    "# Instantiate ada\n",
    "ada = AdaBoostClassifier(base_estimator=dt, n_estimators=180, random_state=1)"
   ]
  },
  {
   "cell_type": "markdown",
   "id": "fa49ca2f",
   "metadata": {},
   "source": [
    "## Train the AdaBoost classifier\n",
    "Now that we've instantiated the AdaBoost classifier ada, it's time train it. We will also predict the probabilities of obtaining the positive class in the test set."
   ]
  },
  {
   "cell_type": "code",
   "execution_count": 12,
   "id": "943631ba",
   "metadata": {},
   "outputs": [],
   "source": [
    "# Fit ada to the training set\n",
    "ada.fit(X_train, y_train)\n",
    "# Compute the probabilities of obtaining the positive class\n",
    "y_pred_proba = ada.predict_proba(X_test)[:,1]"
   ]
  },
  {
   "cell_type": "markdown",
   "id": "ce20aeb1",
   "metadata": {},
   "source": [
    "## Evaluate the AdaBoost classifier\n",
    "Now that we're done training ada and predicting the probabilities of obtaining the positive class in the test set, it's time to evaluate ada's ROC AUC score. "
   ]
  },
  {
   "cell_type": "code",
   "execution_count": 13,
   "id": "56ae697d",
   "metadata": {},
   "outputs": [
    {
     "name": "stdout",
     "output_type": "stream",
     "text": [
      "ROC AUC score: 0.59\n"
     ]
    }
   ],
   "source": [
    "# Import roc_auc_score\n",
    "from sklearn.metrics import roc_auc_score\n",
    "\n",
    "# Evaluate test-set roc_auc_score\n",
    "ada_roc_auc = roc_auc_score(y_test, y_pred_proba)\n",
    "\n",
    "# Print roc_auc_score\n",
    "print('ROC AUC score: {:.2f}'.format(ada_roc_auc))"
   ]
  },
  {
   "cell_type": "markdown",
   "id": "c185c8ae",
   "metadata": {},
   "source": [
    "## Define the GB regressor\n",
    "We'll now revisit the Bike Sharing Demand dataset that was introduced in the previous excercise. Recall that your task is to predict the bike rental demand using historical weather data from the Capital Bikeshare program in Washington, D.C.. For this purpose, we'll be using a gradient boosting regressor."
   ]
  },
  {
   "cell_type": "code",
   "execution_count": 16,
   "id": "99bd1b30",
   "metadata": {},
   "outputs": [],
   "source": [
    "# Import GradientBoostingRegressor\n",
    "from sklearn.ensemble import GradientBoostingRegressor\n",
    "\n",
    "# Instantiate gb\n",
    "gb = GradientBoostingRegressor(max_depth=4, \n",
    "            n_estimators=200,\n",
    "            random_state=2)"
   ]
  },
  {
   "cell_type": "markdown",
   "id": "4fe5d76f",
   "metadata": {},
   "source": [
    "## Train the GB regressor\n",
    "We'll now train the gradient boosting regressor gb that you instantiated in the previous exercise and predict test set labels."
   ]
  },
  {
   "cell_type": "code",
   "execution_count": 17,
   "id": "7ab4c2fa",
   "metadata": {},
   "outputs": [],
   "source": [
    "# Fit gb to the training set\n",
    "gb.fit(X_train, y_train)\n",
    "\n",
    "# Predict test set labels\n",
    "y_pred = gb.predict(X_test)"
   ]
  },
  {
   "cell_type": "code",
   "execution_count": 18,
   "id": "c407e57d",
   "metadata": {},
   "outputs": [
    {
     "data": {
      "text/plain": [
       "array([ 4.02474589e-01,  3.08584511e-01,  6.37192032e-01,  9.71266939e-01,\n",
       "        8.23637162e-02,  2.71535239e-01,  3.05770757e-01,  2.36278874e-01,\n",
       "        1.03403399e-01,  3.39922154e-01,  9.33788130e-02,  3.49547279e-01,\n",
       "        1.83095527e-01,  3.01021884e-01,  4.11794172e-01,  3.92533030e-01,\n",
       "        4.42419714e-01,  4.22282917e-01,  3.34762193e-01,  8.16578478e-02,\n",
       "        6.11506391e-01,  4.40398278e-01,  5.07035736e-01, -3.65951299e-02,\n",
       "        1.25760868e-01,  1.44806805e-01,  2.98730303e-01,  3.30770891e-01,\n",
       "       -3.84816190e-02, -1.72315839e-01,  5.01740596e-02,  4.10816883e-01,\n",
       "        3.04320790e-01,  4.78748723e-02,  1.35431372e-01,  1.17580222e-01,\n",
       "        2.16515055e-01,  2.26418900e-01,  1.71462466e-01, -1.28589596e-01,\n",
       "        5.06381117e-01, -9.39700354e-02,  1.29628110e-01,  1.10368341e-02,\n",
       "       -1.45650360e-01,  1.48149789e-01,  6.23999707e-02,  4.89713311e-01,\n",
       "        2.15204244e-01,  2.71724353e-01,  4.85462218e-01,  1.08607976e-01,\n",
       "        3.05768148e-01,  5.78973794e-02,  2.24460375e-01,  5.57178710e-01,\n",
       "        1.52986784e-01,  4.64254502e-02,  5.16007475e-01,  1.00211686e-01,\n",
       "       -8.23652557e-03, -3.81438729e-02,  1.89655511e-02,  7.51751262e-02,\n",
       "        1.46879174e-01,  2.20121814e-02,  5.51898611e-01,  4.86542909e-01,\n",
       "        9.78604553e-02,  4.07786578e-01, -7.38451127e-02,  1.01775135e+00,\n",
       "        4.01044058e-01,  5.64096153e-01,  1.64707363e-01,  4.11897841e-01,\n",
       "       -9.36385188e-03,  4.04733030e-01,  7.65419820e-02,  2.81431456e-01,\n",
       "        6.11291311e-01, -9.34349141e-02,  6.70446955e-01,  5.42737490e-01,\n",
       "        7.83679205e-01, -1.29251016e-02,  7.15326473e-02,  1.55109430e-01,\n",
       "        9.51502819e-01, -4.97589611e-02, -5.10991124e-04,  4.08510101e-01,\n",
       "        3.82671599e-01,  3.12211317e-01,  7.61007053e-01,  3.19893907e-01,\n",
       "        2.96869561e-02,  8.30363971e-01,  1.42984966e-01,  4.46962762e-02,\n",
       "        1.26301656e-01,  3.38675011e-01,  2.23641309e-01,  5.23428914e-01,\n",
       "       -3.55299506e-02,  2.89075271e-01,  1.65551999e-01,  3.84515696e-01,\n",
       "        5.19765898e-01,  5.15136951e-01,  2.65124685e-02,  5.76504743e-01,\n",
       "       -5.70391476e-02,  1.65323790e-01,  1.10034234e-01,  2.58367310e-01,\n",
       "        1.06511879e-01,  2.67866004e-01,  4.85494568e-02,  8.72052575e-02,\n",
       "        2.56724179e-01,  2.49845307e-01,  1.98969218e-01,  3.43279274e-01,\n",
       "        1.01115694e-01,  3.19788626e-02,  6.99133326e-03,  3.35529679e-01,\n",
       "        8.80773670e-02,  1.35166047e-01, -1.34949264e-01,  4.46962762e-02,\n",
       "        8.95929878e-02, -5.87973332e-03,  4.98020402e-01, -1.23751556e-01,\n",
       "        4.15326593e-01,  6.66593490e-01, -2.45553114e-02,  7.21647395e-02,\n",
       "        2.24976454e-01,  2.14705493e-01,  1.05311887e-01,  7.63684066e-01,\n",
       "        1.41679215e-01, -6.40797148e-02,  1.38740985e-01,  1.73004370e-01,\n",
       "        4.25233574e-02,  1.87116445e-01,  2.25769980e-01,  5.64371799e-01,\n",
       "        5.04446820e-01,  2.86547053e-01,  2.68011863e-01,  6.11596470e-02,\n",
       "       -2.39092662e-02,  6.60417335e-01,  4.85639124e-01,  1.48727769e-01,\n",
       "        1.72979199e-01,  4.41842936e-01,  2.41630646e-01,  2.50039651e-01,\n",
       "        6.53456172e-01, -1.33553525e-03,  2.60344017e-01,  3.05308725e-01,\n",
       "        2.01697310e-01,  1.87255863e-01,  3.95305362e-01,  2.18249905e-01,\n",
       "        5.12756038e-01,  5.96317358e-01,  2.94929993e-01])"
      ]
     },
     "execution_count": 18,
     "metadata": {},
     "output_type": "execute_result"
    }
   ],
   "source": [
    "y_pred"
   ]
  }
 ],
 "metadata": {
  "kernelspec": {
   "display_name": "Python 3 (ipykernel)",
   "language": "python",
   "name": "python3"
  },
  "language_info": {
   "codemirror_mode": {
    "name": "ipython",
    "version": 3
   },
   "file_extension": ".py",
   "mimetype": "text/x-python",
   "name": "python",
   "nbconvert_exporter": "python",
   "pygments_lexer": "ipython3",
   "version": "3.9.13"
  }
 },
 "nbformat": 4,
 "nbformat_minor": 5
}
