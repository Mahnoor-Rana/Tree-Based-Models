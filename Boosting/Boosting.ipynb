{
 "cells": [
  {
   "cell_type": "code",
   "execution_count": 1,
   "id": "5f8d585e",
   "metadata": {},
   "outputs": [],
   "source": [
    "import pandas as pd\n",
    "import numpy as np \n",
    "import matplotlib.pyplot as plt \n",
    "import seaborn as sns\n",
    "from sklearn.model_selection import train_test_split"
   ]
  },
  {
   "cell_type": "markdown",
   "id": "e55c57c4",
   "metadata": {},
   "source": [
    "## Define the AdaBoost classifier\n",
    "In the previous we'll revisit the Indian Liver Patient dataset . Our task is to predict whether a patient suffers from a liver disease using 10 features including Albumin, age and gender. However, this time, we'll be training an AdaBoost ensemble to perform the classification task. In addition, given that this dataset is imbalanced, we'll be using the ROC AUC score as a metric instead of accuracy"
   ]
  },
  {
   "cell_type": "code",
   "execution_count": 2,
   "id": "e20a5566",
   "metadata": {},
   "outputs": [],
   "source": [
    "df = pd.read_csv('indian_liver_patient.csv')\n",
    "df['Gender'] = df.Gender.replace({'Male':0, 'Female':1})"
   ]
  },
  {
   "cell_type": "code",
   "execution_count": 3,
   "id": "7d264486",
   "metadata": {},
   "outputs": [],
   "source": [
    "df['Albumin_and_Globulin_Ratio'] = df['Albumin_and_Globulin_Ratio'].fillna(0)"
   ]
  },
  {
   "cell_type": "code",
   "execution_count": 4,
   "id": "8a756a85",
   "metadata": {},
   "outputs": [],
   "source": [
    "X = df.drop(['Gender'], axis = 1)\n",
    "y = df['Gender']"
   ]
  },
  {
   "cell_type": "code",
   "execution_count": 5,
   "id": "9dd5563a",
   "metadata": {},
   "outputs": [],
   "source": [
    "X_train, X_test,y_train,y_test =  train_test_split(X, y , test_size =0.3)"
   ]
  },
  {
   "cell_type": "code",
   "execution_count": 6,
   "id": "eec4249d",
   "metadata": {},
   "outputs": [],
   "source": [
    "# Import DecisionTreeClassifier\n",
    "from sklearn.tree import DecisionTreeClassifier\n",
    "\n",
    "# Import AdaBoostClassifier\n",
    "from sklearn.ensemble import AdaBoostClassifier\n",
    "\n",
    "# Instantiate dt\n",
    "dt = DecisionTreeClassifier(max_depth=2, random_state=1)\n",
    "\n",
    "# Instantiate ada\n",
    "ada = AdaBoostClassifier(base_estimator=dt, n_estimators=180, random_state=1)"
   ]
  },
  {
   "cell_type": "markdown",
   "id": "fa49ca2f",
   "metadata": {},
   "source": [
    "## Train the AdaBoost classifier\n",
    "Now that we've instantiated the AdaBoost classifier ada, it's time train it. We will also predict the probabilities of obtaining the positive class in the test set."
   ]
  },
  {
   "cell_type": "code",
   "execution_count": 7,
   "id": "943631ba",
   "metadata": {},
   "outputs": [],
   "source": [
    "# Fit ada to the training set\n",
    "ada.fit(X_train, y_train)\n",
    "# Compute the probabilities of obtaining the positive class\n",
    "y_pred_proba = ada.predict_proba(X_test)[:,1]"
   ]
  },
  {
   "cell_type": "markdown",
   "id": "ce20aeb1",
   "metadata": {},
   "source": [
    "## Evaluate the AdaBoost classifier\n",
    "Now that we're done training ada and predicting the probabilities of obtaining the positive class in the test set, it's time to evaluate ada's ROC AUC score. "
   ]
  },
  {
   "cell_type": "code",
   "execution_count": 8,
   "id": "56ae697d",
   "metadata": {},
   "outputs": [
    {
     "name": "stdout",
     "output_type": "stream",
     "text": [
      "ROC AUC score: 0.61\n"
     ]
    }
   ],
   "source": [
    "# Import roc_auc_score\n",
    "from sklearn.metrics import roc_auc_score\n",
    "\n",
    "# Evaluate test-set roc_auc_score\n",
    "ada_roc_auc = roc_auc_score(y_test, y_pred_proba)\n",
    "\n",
    "# Print roc_auc_score\n",
    "print('ROC AUC score: {:.2f}'.format(ada_roc_auc))"
   ]
  },
  {
   "cell_type": "markdown",
   "id": "c185c8ae",
   "metadata": {},
   "source": [
    "## Define the GB regressor\n",
    "We'll now revisit the Bike Sharing Demand dataset that was introduced in the previous excercise. Recall that your task is to predict the bike rental demand using historical weather data from the Capital Bikeshare program in Washington, D.C.. For this purpose, we'll be using a gradient boosting regressor."
   ]
  },
  {
   "cell_type": "code",
   "execution_count": 9,
   "id": "99bd1b30",
   "metadata": {},
   "outputs": [],
   "source": [
    "# Import GradientBoostingRegressor\n",
    "from sklearn.ensemble import GradientBoostingRegressor\n",
    "\n",
    "# Instantiate gb\n",
    "gb = GradientBoostingRegressor(max_depth=4, \n",
    "            n_estimators=200,\n",
    "            random_state=2)"
   ]
  },
  {
   "cell_type": "markdown",
   "id": "4fe5d76f",
   "metadata": {},
   "source": [
    "## Train the GB regressor\n",
    "We'll now train the gradient boosting regressor gb that you instantiated in the previous exercise and predict test set labels."
   ]
  },
  {
   "cell_type": "code",
   "execution_count": 10,
   "id": "7ab4c2fa",
   "metadata": {},
   "outputs": [],
   "source": [
    "# Fit gb to the training set\n",
    "gb.fit(X_train, y_train)\n",
    "\n",
    "# Predict test set labels\n",
    "y_pred = gb.predict(X_test)"
   ]
  },
  {
   "cell_type": "code",
   "execution_count": 11,
   "id": "c407e57d",
   "metadata": {},
   "outputs": [
    {
     "data": {
      "text/plain": [
       "array([ 5.49384972e-01,  6.28323124e-01, -2.35110911e-02,  2.79604865e-01,\n",
       "        5.10372249e-01, -4.20944318e-03,  4.31618511e-01,  1.51298396e-01,\n",
       "        1.18445540e-01,  3.20002758e-01, -1.51899002e-01, -8.94373077e-02,\n",
       "        3.96799111e-01,  1.87078526e-01,  5.16332200e-02,  7.11248698e-02,\n",
       "        3.80745715e-01,  4.54389272e-01,  5.92319353e-02,  2.29626495e-02,\n",
       "        2.30458165e-01,  7.26692704e-01,  2.31226216e-01, -5.33120152e-02,\n",
       "        7.43992681e-03,  6.64506219e-01,  4.76930021e-01, -3.01071764e-02,\n",
       "        1.69521510e-01,  3.30784288e-01,  4.50630510e-01,  5.11871714e-01,\n",
       "        1.45185019e-01,  3.14289539e-01,  3.99178022e-02, -4.42850384e-02,\n",
       "        2.33438000e-01,  4.79954963e-02,  1.13304342e-01,  1.96454992e-01,\n",
       "        1.48842718e-02,  7.88983168e-01, -9.99936947e-03,  1.29475755e-01,\n",
       "        3.17281469e-01, -1.11236959e-01,  2.99971389e-01,  1.64559320e-01,\n",
       "        7.27357557e-03,  3.54325811e-01,  8.07287022e-02,  6.72040871e-01,\n",
       "        5.94712345e-01,  2.40004956e-01,  2.66198836e-01,  8.80541938e-02,\n",
       "        1.51739557e-02,  8.80030392e-02,  1.48842718e-02,  2.49986129e-01,\n",
       "        6.63057024e-02,  4.71518081e-01,  8.52789075e-01,  6.55046185e-01,\n",
       "        4.98208961e-01,  3.40131945e-01,  4.89153060e-02,  3.03092884e-01,\n",
       "        6.48629897e-01,  1.99633373e-01, -2.18054324e-02,  2.10390626e-01,\n",
       "        6.36659776e-02,  3.80626733e-01, -1.77098597e-01,  1.59025433e-01,\n",
       "        4.45829575e-01,  3.04849539e-02,  3.34213771e-01,  7.97783622e-01,\n",
       "        4.37032120e-02,  4.16007381e-01,  3.95095381e-01,  3.70337824e-01,\n",
       "        1.07365431e-01,  2.14434828e-01,  1.91683573e-01,  4.77749388e-02,\n",
       "        1.93359348e-01,  9.26632098e-01,  4.31420309e-01,  3.66172763e-01,\n",
       "        1.88406496e-01,  2.04761485e-02,  3.25331228e-02,  6.74084442e-01,\n",
       "        2.49738721e-01,  2.36107554e-01,  6.20980859e-03,  1.36168422e-01,\n",
       "        6.68068222e-01,  4.26206535e-01, -2.31693188e-02,  4.15008401e-02,\n",
       "        2.17734206e-01,  3.40762630e-01, -1.09061058e-01,  5.05151918e-01,\n",
       "       -4.99718658e-02,  9.32979205e-01,  4.43171283e-02,  1.15652264e-01,\n",
       "        3.62126417e-01,  2.43135250e-01, -7.00322715e-02,  1.33205480e-01,\n",
       "        9.34154403e-01, -5.43065070e-03,  3.28628597e-01, -6.25423667e-02,\n",
       "        5.15597180e-01,  2.09279064e-02,  7.04056820e-03,  6.56352096e-01,\n",
       "        1.72063204e-01,  5.87241803e-01, -4.10798536e-02,  2.44684437e-01,\n",
       "        4.26127858e-01,  9.81338154e-02,  2.93616967e-01,  5.45707614e-02,\n",
       "       -7.51811327e-02,  3.61074949e-01, -8.86301168e-04,  2.13586403e-01,\n",
       "        7.72124689e-01,  6.50245239e-01,  6.52425310e-02,  1.44193003e-01,\n",
       "        5.89763122e-01,  3.70666524e-01,  3.99457297e-01,  3.52819310e-01,\n",
       "        1.35261389e-01,  2.54216403e-01,  6.19956547e-01,  8.24078277e-02,\n",
       "        8.48066646e-01,  6.94034028e-02, -3.17158412e-02,  3.24672602e-01,\n",
       "        5.08892261e-01,  2.02031365e-01,  2.57080870e-01,  2.22136125e-01,\n",
       "        4.98969465e-01,  5.38509356e-01,  5.62021887e-01,  2.84097123e-01,\n",
       "        3.16325688e-01,  1.12481461e-01,  2.36907192e-01, -6.98094355e-02,\n",
       "        7.48268583e-03,  1.43238186e-01,  6.27374617e-02,  8.70743780e-02,\n",
       "        2.19618356e-01,  2.27299141e-01,  2.93439954e-02,  2.02997903e-01,\n",
       "        6.20502704e-01,  4.85126850e-01, -9.20439671e-02])"
      ]
     },
     "execution_count": 11,
     "metadata": {},
     "output_type": "execute_result"
    }
   ],
   "source": [
    "y_pred"
   ]
  },
  {
   "cell_type": "markdown",
   "id": "6600c875",
   "metadata": {},
   "source": [
    "## Evaluate the GB regressor\n",
    "Now that the test set predictions are available, we can use them to evaluate the test set Root Mean Squared Error (RMSE) of gb."
   ]
  },
  {
   "cell_type": "code",
   "execution_count": 12,
   "id": "501cd6e7",
   "metadata": {},
   "outputs": [
    {
     "name": "stdout",
     "output_type": "stream",
     "text": [
      "Test set RMSE of gb: 0.430\n"
     ]
    }
   ],
   "source": [
    "# Import mean_squared_error as MSE\n",
    "from sklearn.metrics import mean_squared_error as MSE\n",
    "\n",
    "# Compute MSE\n",
    "mse_test = MSE(y_test, y_pred)\n",
    "\n",
    "# Compute RMSE\n",
    "rmse_test = mse_test**(1/2)\n",
    "\n",
    "# Print RMSE\n",
    "print('Test set RMSE of gb: {:.3f}'.format(rmse_test))"
   ]
  },
  {
   "cell_type": "markdown",
   "id": "be60963e",
   "metadata": {},
   "source": [
    "## Regression with SGB\n"
   ]
  },
  {
   "cell_type": "code",
   "execution_count": 14,
   "id": "33ee79cb",
   "metadata": {},
   "outputs": [],
   "source": [
    "# Import GradientBoostingRegressor\n",
    "from sklearn.ensemble import GradientBoostingRegressor\n",
    "\n",
    "# Instantiate sgbr\n",
    "sgbr = GradientBoostingRegressor(max_depth=4, \n",
    "            subsample=0.9,\n",
    "            max_features=0.75,\n",
    "            n_estimators=200,\n",
    "            random_state=2)"
   ]
  },
  {
   "cell_type": "code",
   "execution_count": null,
   "id": "f8d6f6ee",
   "metadata": {},
   "outputs": [],
   "source": []
  },
  {
   "cell_type": "code",
   "execution_count": null,
   "id": "2b0a4c57",
   "metadata": {},
   "outputs": [],
   "source": []
  },
  {
   "cell_type": "code",
   "execution_count": null,
   "id": "96e54e7c",
   "metadata": {},
   "outputs": [],
   "source": []
  },
  {
   "cell_type": "code",
   "execution_count": null,
   "id": "4b66d33a",
   "metadata": {},
   "outputs": [],
   "source": []
  }
 ],
 "metadata": {
  "kernelspec": {
   "display_name": "Python 3 (ipykernel)",
   "language": "python",
   "name": "python3"
  },
  "language_info": {
   "codemirror_mode": {
    "name": "ipython",
    "version": 3
   },
   "file_extension": ".py",
   "mimetype": "text/x-python",
   "name": "python",
   "nbconvert_exporter": "python",
   "pygments_lexer": "ipython3",
   "version": "3.9.13"
  }
 },
 "nbformat": 4,
 "nbformat_minor": 5
}
