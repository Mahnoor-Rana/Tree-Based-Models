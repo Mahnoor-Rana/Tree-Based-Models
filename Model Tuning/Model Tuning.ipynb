{
 "cells": [
  {
   "cell_type": "code",
   "execution_count": 1,
   "id": "3a582bd4",
   "metadata": {},
   "outputs": [],
   "source": [
    "import pandas as pd \n",
    "import numpy as np \n",
    "import matplotlib.pyplot as plt\n",
    "import seaborn as sns\n",
    "from sklearn.tree import DecisionTreeClassifier"
   ]
  },
  {
   "cell_type": "markdown",
   "id": "851e408e",
   "metadata": {},
   "source": [
    "## Set the tree's hyperparameter grid\n",
    "In this exercise, we'll manually set the grid of hyperparameters that will be used to tune the classification tree dt and find the optimal classifier."
   ]
  },
  {
   "cell_type": "code",
   "execution_count": 2,
   "id": "aed1f317",
   "metadata": {},
   "outputs": [],
   "source": [
    "# Define params_dt\n",
    "params_dt = {\n",
    "             'max_depth': [2, 3, 4],\n",
    "             'min_samples_leaf': [0.12, 0.14, 0.16, 0.18]\n",
    "            }"
   ]
  },
  {
   "cell_type": "markdown",
   "id": "c3a8b02a",
   "metadata": {},
   "source": [
    "## Search for the optimal tree\n",
    "In this we'll perform grid search using 5-fold cross validation to find dt's optimal hyperparameters. Note that because grid search is an exhaustive process, it may take a lot time to train the model. Here we'll only be instantiating the GridSearchCV object without fitting it to the training set."
   ]
  },
  {
   "cell_type": "code",
   "execution_count": 3,
   "id": "79ad1fc2",
   "metadata": {},
   "outputs": [],
   "source": [
    "dt = DecisionTreeClassifier()"
   ]
  },
  {
   "cell_type": "code",
   "execution_count": 5,
   "id": "15b27cb6",
   "metadata": {},
   "outputs": [],
   "source": [
    "# Import GridSearchCV\n",
    "from sklearn.model_selection import GridSearchCV\n",
    "# Instantiate grid_dt\n",
    "grid_dt = GridSearchCV(estimator=dt,\n",
    "                       param_grid= params_dt,\n",
    "                       scoring='roc_auc',\n",
    "                       cv=5,\n",
    "                       n_jobs=-1)"
   ]
  },
  {
   "cell_type": "markdown",
   "id": "08f88c5f",
   "metadata": {},
   "source": [
    "## Set the hyperparameter grid of RF\n",
    "We'll manually set the grid of hyperparameters that will be used to tune rf's hyperparameters and find the optimal regressor. "
   ]
  },
  {
   "cell_type": "code",
   "execution_count": 9,
   "id": "702c7fa8",
   "metadata": {},
   "outputs": [],
   "source": [
    "# Define the dictionary 'params_rf'\n",
    "params_rf = {\n",
    "    'n_estimators':[100, 350, 500],\n",
    "    'max_features':[ 'log2', 'auto', 'sqrt'],\n",
    "    'min_samples_leaf':[2,10,30]\n",
    "}"
   ]
  }
 ],
 "metadata": {
  "kernelspec": {
   "display_name": "Python 3 (ipykernel)",
   "language": "python",
   "name": "python3"
  },
  "language_info": {
   "codemirror_mode": {
    "name": "ipython",
    "version": 3
   },
   "file_extension": ".py",
   "mimetype": "text/x-python",
   "name": "python",
   "nbconvert_exporter": "python",
   "pygments_lexer": "ipython3",
   "version": "3.9.13"
  }
 },
 "nbformat": 4,
 "nbformat_minor": 5
}
